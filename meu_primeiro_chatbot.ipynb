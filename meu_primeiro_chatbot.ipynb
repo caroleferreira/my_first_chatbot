{
  "nbformat": 4,
  "nbformat_minor": 0,
  "metadata": {
    "colab": {
      "provenance": [],
      "authorship_tag": "ABX9TyPbC8dwn+T2eSZpFv51kQ7w",
      "include_colab_link": true
    },
    "kernelspec": {
      "name": "python3",
      "display_name": "Python 3"
    },
    "language_info": {
      "name": "python"
    }
  },
  "cells": [
    {
      "cell_type": "markdown",
      "metadata": {
        "id": "view-in-github",
        "colab_type": "text"
      },
      "source": [
        "<a href=\"https://colab.research.google.com/github/caroleferreira/my_first_chatbot/blob/main/meu_primeiro_chatbot.ipynb\" target=\"_parent\"><img src=\"https://colab.research.google.com/assets/colab-badge.svg\" alt=\"Open In Colab\"/></a>"
      ]
    },
    {
      "cell_type": "markdown",
      "source": [
        "Instalando o SDK do Google"
      ],
      "metadata": {
        "id": "UA5Qw7KMYC3V"
      }
    },
    {
      "cell_type": "code",
      "execution_count": 3,
      "metadata": {
        "id": "J6Pd9SFJ1yVi"
      },
      "outputs": [],
      "source": [
        "!pip install -q -U google-generativeai"
      ]
    },
    {
      "cell_type": "code",
      "source": [
        "# Import the Python SDK\n",
        "import google.generativeai as genai\n",
        "# Used to securely store your API key\n",
        "from google.colab import userdata\n",
        "\n",
        "genai.configure(api_key=GOOGLE_API_KEY)"
      ],
      "metadata": {
        "id": "I-Xo1H3xYr8P"
      },
      "execution_count": 4,
      "outputs": []
    },
    {
      "cell_type": "markdown",
      "source": [
        "Listar os modelos disponíveis."
      ],
      "metadata": {
        "id": "CXGSAHKHY6z_"
      }
    },
    {
      "cell_type": "code",
      "source": [
        "for m in genai.list_models():\n",
        "  if 'generateContent' in m.supported_generation_methods:\n",
        "    print(m.name)"
      ],
      "metadata": {
        "colab": {
          "base_uri": "https://localhost:8080/",
          "height": 138
        },
        "id": "yzZDAXqqZBwf",
        "outputId": "b8b2ee12-e3bd-48cf-944d-55571a62301f"
      },
      "execution_count": 5,
      "outputs": [
        {
          "output_type": "stream",
          "name": "stdout",
          "text": [
            "models/gemini-1.0-pro\n",
            "models/gemini-1.0-pro-001\n",
            "models/gemini-1.0-pro-latest\n",
            "models/gemini-1.0-pro-vision-latest\n",
            "models/gemini-1.5-pro-latest\n",
            "models/gemini-pro\n",
            "models/gemini-pro-vision\n"
          ]
        }
      ]
    },
    {
      "cell_type": "code",
      "source": [
        "generation_config = {\n",
        "    \"candidate_count\": 1,\n",
        "    \"temperature\":0.5,\n",
        "}"
      ],
      "metadata": {
        "id": "CPCEI6fac0xn"
      },
      "execution_count": 6,
      "outputs": []
    },
    {
      "cell_type": "code",
      "source": [
        "safety_settings = {\n",
        "    \"harassment\": \"block_none\",\n",
        "    \"hate\":\"block_none\",\n",
        "    \"sexual\":\"block_none\",\n",
        "    \"dangerous\": \"block_none\",\n",
        "}"
      ],
      "metadata": {
        "id": "cJxSEeAFdbdc"
      },
      "execution_count": 7,
      "outputs": []
    },
    {
      "cell_type": "markdown",
      "source": [
        "Inicializando o modelo"
      ],
      "metadata": {
        "id": "XOgowlx7eyS0"
      }
    },
    {
      "cell_type": "code",
      "source": [
        "model = genai.GenerativeModel(model_name=\"gemini-1.0-pro\",\n",
        "                              generation_config=generation_config,\n",
        "                              safety_settings=safety_settings)"
      ],
      "metadata": {
        "id": "rVxuPXR_e0tK"
      },
      "execution_count": 8,
      "outputs": []
    },
    {
      "cell_type": "code",
      "source": [
        "response = model.generate_content(\"Vamos aprender conteúdo sobre IA. Me dê sugestões.\")\n",
        "print(response.text)"
      ],
      "metadata": {
        "colab": {
          "base_uri": "https://localhost:8080/",
          "height": 662
        },
        "id": "sSYM5CMleDv0",
        "outputId": "942a793d-05ff-44a5-d698-e81feeabec4d"
      },
      "execution_count": 9,
      "outputs": [
        {
          "output_type": "stream",
          "name": "stdout",
          "text": [
            "**Conceitos Fundamentais**\n",
            "\n",
            "* Definição e tipos de Inteligência Artificial (IA)\n",
            "* Aprendizado de Máquina (ML) vs. Aprendizado Profundo (DL)\n",
            "* Redes Neurais e suas arquiteturas\n",
            "* Processamento de Linguagem Natural (PNL)\n",
            "* Visão Computacional\n",
            "\n",
            "**Técnicas de Aprendizado de Máquina**\n",
            "\n",
            "* Aprendizado Supervisionado (Classificação e Regressão)\n",
            "* Aprendizado Não Supervisionado (Clustering e Redução de Dimensionalidade)\n",
            "* Aprendizado por Reforço\n",
            "\n",
            "**Aplicações de IA**\n",
            "\n",
            "* Reconhecimento de Imagens e Vídeos\n",
            "* Processamento de Linguagem Natural (Tradução, Resumo)\n",
            "* Previsão e Análise (Previsão de Demanda, Análise Financeira)\n",
            "* Automação de Processos (Robótica, Atendimento ao Cliente)\n",
            "* Cuidados de Saúde (Diagnóstico, Desenvolvimento de Medicamentos)\n",
            "\n",
            "**Ética e Implicações da IA**\n",
            "\n",
            "* Viés e Discriminação em Sistemas de IA\n",
            "* Privacidade e Segurança de Dados\n",
            "* Impacto no Emprego e na Sociedade\n",
            "* Regulamentação e Governança de IA\n",
            "\n",
            "**Recursos de Aprendizado**\n",
            "\n",
            "* **Cursos Online:** Coursera, edX, Udemy\n",
            "* **Livros:** \"Inteligência Artificial: Uma Abordagem Moderna\" (Stuart Russell e Peter Norvig), \"Aprendizado de Máquina\" (Tom Mitchell)\n",
            "* **Conferências e Workshops:** NeurIPS, ICML, CVPR\n",
            "* **Comunidades Online:** Reddit (r/MachineLearning, r/DeepLearning), Stack Overflow\n",
            "* **Ferramentas e Bibliotecas:** TensorFlow, PyTorch, Scikit-learn\n"
          ]
        }
      ]
    },
    {
      "cell_type": "code",
      "source": [
        "chat = model.start_chat(history=[])"
      ],
      "metadata": {
        "id": "9SChtkbfgLJM"
      },
      "execution_count": 10,
      "outputs": []
    },
    {
      "cell_type": "code",
      "source": [
        "prompt = input('Esperando prompt: ')\n",
        "\n",
        "while prompt !='fim':\n",
        "  response = chat.send_message(prompt)\n",
        "  print(\"Resposta: \", response.text, \"\\n\")\n",
        "  prompt = input('Esperando prompt: ')"
      ],
      "metadata": {
        "id": "hCPTS-iSq62B",
        "colab": {
          "base_uri": "https://localhost:8080/",
          "height": 919
        },
        "outputId": "c5e95670-8f56-48ad-dd10-54bfc853b23b"
      },
      "execution_count": 20,
      "outputs": [
        {
          "name": "stdout",
          "output_type": "stream",
          "text": [
            "Esperando prompt: Quantos reis a ingleterra já teve?\n",
            "Resposta:  10 \n",
            "\n",
            "Esperando prompt: Quem foram?\n",
            "Resposta:  1. Guilherme I (o Conquistador)\n",
            "2. Guilherme II (Rufus)\n",
            "3. Henrique I (Beauclerc)\n",
            "4. Estêvão de Blois\n",
            "5. Henrique II (Plantageneta)\n",
            "6. Ricardo I (Coração de Leão)\n",
            "7. João I (Sem Terra)\n",
            "8. Henrique III\n",
            "9. Eduardo I (Pernas Longas)\n",
            "10. Eduardo II \n",
            "\n",
            "Esperando prompt: E quantas rainhas?\n",
            "Resposta:  7 \n",
            "\n",
            "Esperando prompt: E quem foram?\n",
            "Resposta:  1. Maria I (Tudor)\n",
            "2. Isabel I (Tudor)\n",
            "3. Ana (Stuart)\n",
            "4. Vitória (Hanôver)\n",
            "5. Isabel II (Windsor)\n",
            "6. Maria II (Stuart)\n",
            "7. Guilhermina (Orange-Nassau) \n",
            "\n",
            "Esperando prompt: Quais são os respectivos periodos de cada um?\n",
            "Resposta:  **Reis**\n",
            "\n",
            "* Guilherme I (o Conquistador): 1066-1087\n",
            "* Guilherme II (Rufus): 1087-1100\n",
            "* Henrique I (Beauclerc): 1100-1135\n",
            "* Estêvão de Blois: 1135-1154\n",
            "* Henrique II (Plantageneta): 1154-1189\n",
            "* Ricardo I (Coração de Leão): 1189-1199\n",
            "* João I (Sem Terra): 1199-1216\n",
            "* Henrique III: 1216-1272\n",
            "* Eduardo I (Pernas Longas): 1272-1307\n",
            "* Eduardo II: 1307-1327\n",
            "\n",
            "**Rainhas**\n",
            "\n",
            "* Maria I (Tudor): 1553-1558\n",
            "* Isabel I (Tudor): 1558-1603\n",
            "* Ana (Stuart): 1702-1714\n",
            "* Vitória (Hanôver): 1837-1901\n",
            "* Isabel II (Windsor): 1952-2022\n",
            "* Maria II (Stuart): 1689-1694 (co-regente com Guilherme III)\n",
            "* Guilhermina (Orange-Nassau): 1689-1702 (co-regente com Guilherme III) \n",
            "\n",
            "Esperando prompt: fim\n"
          ]
        }
      ]
    },
    {
      "cell_type": "code",
      "source": [
        "chat.history"
      ],
      "metadata": {
        "colab": {
          "base_uri": "https://localhost:8080/"
        },
        "id": "4Pnm9VdHvfd1",
        "outputId": "21e7c567-70b6-4d9e-8e54-fb0ba56ba503"
      },
      "execution_count": 21,
      "outputs": [
        {
          "output_type": "execute_result",
          "data": {
            "text/plain": [
              "[parts {\n",
              "   text: \"Qual a capital do brasil?\"\n",
              " }\n",
              " role: \"user\",\n",
              " parts {\n",
              "   text: \"Bras\\303\\255lia\"\n",
              " }\n",
              " role: \"model\",\n",
              " parts {\n",
              "   text: \"Qual a capital do Brasil? \"\n",
              " }\n",
              " role: \"user\",\n",
              " parts {\n",
              "   text: \"Bras\\303\\255lia\"\n",
              " }\n",
              " role: \"model\",\n",
              " parts {\n",
              "   text: \"Quanto \\303\\251 2+2?\"\n",
              " }\n",
              " role: \"user\",\n",
              " parts {\n",
              "   text: \"4\"\n",
              " }\n",
              " role: \"model\",\n",
              " parts {\n",
              "   text: \"Quem \\303\\251 o Rei da Inglaterra?\"\n",
              " }\n",
              " role: \"user\",\n",
              " parts {\n",
              "   text: \"Charles III\"\n",
              " }\n",
              " role: \"model\",\n",
              " parts {\n",
              "   text: \"Quantos anos ele tem?\"\n",
              " }\n",
              " role: \"user\",\n",
              " parts {\n",
              "   text: \"74\"\n",
              " }\n",
              " role: \"model\",\n",
              " parts {\n",
              "   text: \"Quem foi a sua m\\303\\243e?\"\n",
              " }\n",
              " role: \"user\",\n",
              " parts {\n",
              "   text: \"Elizabeth II\"\n",
              " }\n",
              " role: \"model\",\n",
              " parts {\n",
              "   text: \"E como ela morreu?\"\n",
              " }\n",
              " role: \"user\",\n",
              " parts {\n",
              "   text: \"Causas naturais relacionadas \\303\\240 idade avan\\303\\247ada\"\n",
              " }\n",
              " role: \"model\",\n",
              " parts {\n",
              "   text: \"Qual capital da It\\303\\241lia?\"\n",
              " }\n",
              " role: \"user\",\n",
              " parts {\n",
              "   text: \"Roma\"\n",
              " }\n",
              " role: \"model\",\n",
              " parts {\n",
              "   text: \"Quantos reis a ingleterra j\\303\\241 teve?\"\n",
              " }\n",
              " role: \"user\",\n",
              " parts {\n",
              "   text: \"10\"\n",
              " }\n",
              " role: \"model\",\n",
              " parts {\n",
              "   text: \"Quem foram?\"\n",
              " }\n",
              " role: \"user\",\n",
              " parts {\n",
              "   text: \"1. Guilherme I (o Conquistador)\\n2. Guilherme II (Rufus)\\n3. Henrique I (Beauclerc)\\n4. Est\\303\\252v\\303\\243o de Blois\\n5. Henrique II (Plantageneta)\\n6. Ricardo I (Cora\\303\\247\\303\\243o de Le\\303\\243o)\\n7. Jo\\303\\243o I (Sem Terra)\\n8. Henrique III\\n9. Eduardo I (Pernas Longas)\\n10. Eduardo II\"\n",
              " }\n",
              " role: \"model\",\n",
              " parts {\n",
              "   text: \"E quantas rainhas?\"\n",
              " }\n",
              " role: \"user\",\n",
              " parts {\n",
              "   text: \"7\"\n",
              " }\n",
              " role: \"model\",\n",
              " parts {\n",
              "   text: \"E quem foram?\"\n",
              " }\n",
              " role: \"user\",\n",
              " parts {\n",
              "   text: \"1. Maria I (Tudor)\\n2. Isabel I (Tudor)\\n3. Ana (Stuart)\\n4. Vit\\303\\263ria (Han\\303\\264ver)\\n5. Isabel II (Windsor)\\n6. Maria II (Stuart)\\n7. Guilhermina (Orange-Nassau)\"\n",
              " }\n",
              " role: \"model\",\n",
              " parts {\n",
              "   text: \"Quais s\\303\\243o os respectivos periodos de cada um?\"\n",
              " }\n",
              " role: \"user\",\n",
              " parts {\n",
              "   text: \"**Reis**\\n\\n* Guilherme I (o Conquistador): 1066-1087\\n* Guilherme II (Rufus): 1087-1100\\n* Henrique I (Beauclerc): 1100-1135\\n* Est\\303\\252v\\303\\243o de Blois: 1135-1154\\n* Henrique II (Plantageneta): 1154-1189\\n* Ricardo I (Cora\\303\\247\\303\\243o de Le\\303\\243o): 1189-1199\\n* Jo\\303\\243o I (Sem Terra): 1199-1216\\n* Henrique III: 1216-1272\\n* Eduardo I (Pernas Longas): 1272-1307\\n* Eduardo II: 1307-1327\\n\\n**Rainhas**\\n\\n* Maria I (Tudor): 1553-1558\\n* Isabel I (Tudor): 1558-1603\\n* Ana (Stuart): 1702-1714\\n* Vit\\303\\263ria (Han\\303\\264ver): 1837-1901\\n* Isabel II (Windsor): 1952-2022\\n* Maria II (Stuart): 1689-1694 (co-regente com Guilherme III)\\n* Guilhermina (Orange-Nassau): 1689-1702 (co-regente com Guilherme III)\"\n",
              " }\n",
              " role: \"model\"]"
            ]
          },
          "metadata": {},
          "execution_count": 21
        }
      ]
    },
    {
      "cell_type": "code",
      "source": [
        "#melhorando a visualização\n",
        "import textwrap\n",
        "from IPython.display import display\n",
        "from IPython.display import Markdown\n",
        "\n",
        "def to_markdown(text):\n",
        "  text = text.replace('*','  *')\n",
        "  return markdown(textwrap.indent(text,    '>  ', predicate=lambda _: True))\n",
        "\n",
        "  #imprimindo o histórico\n",
        "  for message in chat.history:\n",
        "    display(t_markdown(f'**(message.role)**: {message.parts[0].text}'))\n",
        "    print('---------------------------------------------')"
      ],
      "metadata": {
        "id": "H-0pR0h-wAYS"
      },
      "execution_count": 25,
      "outputs": []
    }
  ]
}